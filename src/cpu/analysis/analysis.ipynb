{
 "cells": [
  {
   "cell_type": "code",
   "execution_count": 9,
   "id": "2e26db35-7dd7-4a08-874f-882d464de539",
   "metadata": {},
   "outputs": [],
   "source": [
    "import pandas as pd\n",
    "import seaborn as sns\n",
    "import matplotlib.pyplot as plt\n",
    "\n",
    "\n",
    "sns.set()\n",
    "\n",
    "df = pd.read_csv('results.csv')\n",
    "df['Time (ms)'] = df['Time (s)'] * 1000"
   ]
  },
  {
   "cell_type": "code",
   "execution_count": 22,
   "id": "e5ef71fd-9b55-494b-8722-ff68fdbfbfc7",
   "metadata": {},
   "outputs": [
    {
     "data": {
      "image/png": "[encoded data removed]",
      "text/plain": [
       "<Figure size 648x288 with 1 Axes>"
      ]
     },
     "metadata": {},
     "output_type": "display_data"
    },
    {
     "data": {
      "text/html": [
       "<div>\n",
       "<style scoped>\n",
       "    .dataframe tbody tr th:only-of-type {\n",
       "        vertical-align: middle;\n",
       "    }\n",
       "\n",
       "    .dataframe tbody tr th {\n",
       "        vertical-align: top;\n",
       "    }\n",
       "\n",
       "    .dataframe thead th {\n",
       "        text-align: right;\n",
       "    }\n",
       "</style>\n",
       "<table border=\"1\" class=\"dataframe\">\n",
       "  <thead>\n",
       "    <tr style=\"text-align: right;\">\n",
       "      <th></th>\n",
       "      <th>Trial</th>\n",
       "      <th>Time (s)</th>\n",
       "      <th>Time (ms)</th>\n",
       "    </tr>\n",
       "    <tr>\n",
       "      <th>Variant</th>\n",
       "      <th></th>\n",
       "      <th></th>\n",
       "      <th></th>\n",
       "    </tr>\n",
       "  </thead>\n",
       "  <tbody>\n",
       "    <tr>\n",
       "      <th>aggregate</th>\n",
       "      <td>4.5</td>\n",
       "      <td>0.000761</td>\n",
       "      <td>0.761161</td>\n",
       "    </tr>\n",
       "    <tr>\n",
       "      <th>duckdb</th>\n",
       "      <td>4.5</td>\n",
       "      <td>0.379836</td>\n",
       "      <td>379.835900</td>\n",
       "    </tr>\n",
       "    <tr>\n",
       "      <th>end_to_end</th>\n",
       "      <td>4.5</td>\n",
       "      <td>0.013263</td>\n",
       "      <td>13.262630</td>\n",
       "    </tr>\n",
       "    <tr>\n",
       "      <th>end_to_end_avx</th>\n",
       "      <td>4.5</td>\n",
       "      <td>0.013108</td>\n",
       "      <td>13.107890</td>\n",
       "    </tr>\n",
       "    <tr>\n",
       "      <th>filter</th>\n",
       "      <td>4.5</td>\n",
       "      <td>0.033921</td>\n",
       "      <td>33.920810</td>\n",
       "    </tr>\n",
       "    <tr>\n",
       "      <th>filter_avx</th>\n",
       "      <td>4.5</td>\n",
       "      <td>0.014205</td>\n",
       "      <td>14.205470</td>\n",
       "    </tr>\n",
       "  </tbody>\n",
       "</table>\n",
       "</div>"
      ],
      "text/plain": [
       "                Trial  Time (s)   Time (ms)\n",
       "Variant                                    \n",
       "aggregate         4.5  0.000761    0.761161\n",
       "duckdb            4.5  0.379836  379.835900\n",
       "end_to_end        4.5  0.013263   13.262630\n",
       "end_to_end_avx    4.5  0.013108   13.107890\n",
       "filter            4.5  0.033921   33.920810\n",
       "filter_avx        4.5  0.014205   14.205470"
      ]
     },
     "execution_count": 22,
     "metadata": {},
     "output_type": "execute_result"
    }
   ],
   "source": [
    "df_1 = df[df['Variant'].str.startswith('simple_query_1::')].copy()\n",
    "df_1['Variant'] = df_1['Variant'].str.removeprefix('simple_query_1::')\n",
    "plt.figure(figsize=(9, 4))\n",
    "sns.barplot(\n",
    "    data=df_1,\n",
    "    x='Variant',\n",
    "    y='Time (ms)'\n",
    ")\n",
    "plt.ylim((0, 400))\n",
    "plt.savefig('simple_query_1.pdf')\n",
    "plt.show()\n",
    "\n",
    "df_1.groupby('Variant').mean()"
   ]
  },
  {
   "cell_type": "code",
   "execution_count": 23,
   "id": "1eb02b61-54a9-42f4-b73b-e2318417a06b",
   "metadata": {},
   "outputs": [
    {
     "data": {
      "text/html": [
       "<div>\n",
       "<style scoped>\n",
       "    .dataframe tbody tr th:only-of-type {\n",
       "        vertical-align: middle;\n",
       "    }\n",
       "\n",
       "    .dataframe tbody tr th {\n",
       "        vertical-align: top;\n",
       "    }\n",
       "\n",
       "    .dataframe thead th {\n",
       "        text-align: right;\n",
       "    }\n",
       "</style>\n",
       "<table border=\"1\" class=\"dataframe\">\n",
       "  <thead>\n",
       "    <tr style=\"text-align: right;\">\n",
       "      <th></th>\n",
       "      <th>Trial</th>\n",
       "      <th>Time (s)</th>\n",
       "      <th>Time (ms)</th>\n",
       "    </tr>\n",
       "    <tr>\n",
       "      <th>Variant</th>\n",
       "      <th></th>\n",
       "      <th></th>\n",
       "      <th></th>\n",
       "    </tr>\n",
       "  </thead>\n",
       "  <tbody>\n",
       "    <tr>\n",
       "      <th>aggregate</th>\n",
       "      <td>4.5</td>\n",
       "      <td>0.000761</td>\n",
       "      <td>0.760816</td>\n",
       "    </tr>\n",
       "    <tr>\n",
       "      <th>duckdb</th>\n",
       "      <td>4.5</td>\n",
       "      <td>0.285530</td>\n",
       "      <td>285.529800</td>\n",
       "    </tr>\n",
       "    <tr>\n",
       "      <th>end_to_end</th>\n",
       "      <td>4.5</td>\n",
       "      <td>0.020407</td>\n",
       "      <td>20.407420</td>\n",
       "    </tr>\n",
       "    <tr>\n",
       "      <th>filter</th>\n",
       "      <td>4.5</td>\n",
       "      <td>0.033490</td>\n",
       "      <td>33.490190</td>\n",
       "    </tr>\n",
       "  </tbody>\n",
       "</table>\n",
       "</div>"
      ],
      "text/plain": [
       "            Trial  Time (s)   Time (ms)\n",
       "Variant                                \n",
       "aggregate     4.5  0.000761    0.760816\n",
       "duckdb        4.5  0.285530  285.529800\n",
       "end_to_end    4.5  0.020407   20.407420\n",
       "filter        4.5  0.033490   33.490190"
      ]
     },
     "execution_count": 23,
     "metadata": {},
     "output_type": "execute_result"
    },
    {
     "data": {
      "image/png": "[encoded data removed]",
      "text/plain": [
       "<Figure size 432x288 with 1 Axes>"
      ]
     },
     "metadata": {},
     "output_type": "display_data"
    }
   ],
   "source": [
    "df_2 = df[df['Variant'].str.startswith('simple_query_2::')].copy()\n",
    "df_2['Variant'] = df_2['Variant'].str.removeprefix('simple_query_2::')\n",
    "plt.figure(figsize=(6, 4))\n",
    "sns.barplot(\n",
    "    data=df_2,\n",
    "    x='Variant',\n",
    "    y='Time (ms)',\n",
    "    palette=['C0', 'C2', 'C4', 'C5']\n",
    ")\n",
    "plt.ylim((0, 300))\n",
    "plt.savefig('simple_query_2.pdf')\n",
    "\n",
    "df_2.groupby('Variant').mean()"
   ]
  },
  {
   "cell_type": "code",
   "execution_count": 24,
   "id": "f729d97a-f4cc-4a34-9514-a0a7b37b081d",
   "metadata": {},
   "outputs": [
    {
     "data": {
      "text/html": [
       "<div>\n",
       "<style scoped>\n",
       "    .dataframe tbody tr th:only-of-type {\n",
       "        vertical-align: middle;\n",
       "    }\n",
       "\n",
       "    .dataframe tbody tr th {\n",
       "        vertical-align: top;\n",
       "    }\n",
       "\n",
       "    .dataframe thead th {\n",
       "        text-align: right;\n",
       "    }\n",
       "</style>\n",
       "<table border=\"1\" class=\"dataframe\">\n",
       "  <thead>\n",
       "    <tr style=\"text-align: right;\">\n",
       "      <th></th>\n",
       "      <th>Trial</th>\n",
       "      <th>Time (s)</th>\n",
       "      <th>Time (ms)</th>\n",
       "    </tr>\n",
       "    <tr>\n",
       "      <th>Variant</th>\n",
       "      <th></th>\n",
       "      <th></th>\n",
       "      <th></th>\n",
       "    </tr>\n",
       "  </thead>\n",
       "  <tbody>\n",
       "    <tr>\n",
       "      <th>aggregate</th>\n",
       "      <td>4.5</td>\n",
       "      <td>0.033104</td>\n",
       "      <td>33.10394</td>\n",
       "    </tr>\n",
       "    <tr>\n",
       "      <th>duckdb</th>\n",
       "      <td>4.5</td>\n",
       "      <td>0.405927</td>\n",
       "      <td>405.92690</td>\n",
       "    </tr>\n",
       "    <tr>\n",
       "      <th>end_to_end</th>\n",
       "      <td>4.5</td>\n",
       "      <td>0.039791</td>\n",
       "      <td>39.79138</td>\n",
       "    </tr>\n",
       "    <tr>\n",
       "      <th>filter</th>\n",
       "      <td>4.5</td>\n",
       "      <td>0.033583</td>\n",
       "      <td>33.58294</td>\n",
       "    </tr>\n",
       "  </tbody>\n",
       "</table>\n",
       "</div>"
      ],
      "text/plain": [
       "            Trial  Time (s)  Time (ms)\n",
       "Variant                               \n",
       "aggregate     4.5  0.033104   33.10394\n",
       "duckdb        4.5  0.405927  405.92690\n",
       "end_to_end    4.5  0.039791   39.79138\n",
       "filter        4.5  0.033583   33.58294"
      ]
     },
     "execution_count": 24,
     "metadata": {},
     "output_type": "execute_result"
    },
    {
     "data": {
      "image/png": "[encoded data removed]",
      "text/plain": [
       "<Figure size 432x288 with 1 Axes>"
      ]
     },
     "metadata": {},
     "output_type": "display_data"
    }
   ],
   "source": [
    "df_3 = df[df['Variant'].str.startswith('simple_query_3::')].copy()\n",
    "df_3['Variant'] = df_3['Variant'].str.removeprefix('simple_query_3::')\n",
    "plt.figure(figsize=(6, 4))\n",
    "sns.barplot(\n",
    "    data=df_3,\n",
    "    x='Variant',\n",
    "    y='Time (ms)',\n",
    "    palette=['C0', 'C2', 'C4', 'C5']\n",
    ")\n",
    "plt.ylim((0, 650))\n",
    "plt.savefig('simple_query_3.pdf')\n",
    "\n",
    "df_3.groupby('Variant').mean()"
   ]
  }
 ],
 "metadata": {
  "kernelspec": {
   "display_name": "Python 3 (ipykernel)",
   "language": "python",
   "name": "python3"
  },
  "language_info": {
   "codemirror_mode": {
    "name": "ipython",
    "version": 3
   },
   "file_extension": ".py",
   "mimetype": "text/x-python",
   "name": "python",
   "nbconvert_exporter": "python",
   "pygments_lexer": "ipython3",
   "version": "3.9.16"
  }
 },
 "nbformat": 4,
 "nbformat_minor": 5
}
