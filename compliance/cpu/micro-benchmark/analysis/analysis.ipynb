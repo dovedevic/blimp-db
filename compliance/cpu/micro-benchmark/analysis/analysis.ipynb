{
 "cells": [
  {
   "cell_type": "code",
   "execution_count": 1,
   "id": "99b88d06-4a1a-4a26-a082-46e8727d1292",
   "metadata": {},
   "outputs": [],
   "source": [
    "import pandas as pd"
   ]
  },
  {
   "cell_type": "code",
   "execution_count": 2,
   "id": "7df587cb-374d-499c-99b3-278fe66f7337",
   "metadata": {},
   "outputs": [],
   "source": [
    "def analyze(name):\n",
    "    df = pd.read_csv(name)\n",
    "    df = df[df['trial'] != 0]\n",
    "    df['time'] = df['time'] * 1000\n",
    "    df = df.groupby(['microbenchmark', 'selectivity', 'format']).agg({'time': 'mean'}).reset_index()                                                                    \n",
    "    print(df)\n"
   ]
  },
  {
   "cell_type": "code",
   "execution_count": 3,
   "id": "457d2c50-323a-43b6-ab16-168fc6f2ef63",
   "metadata": {},
   "outputs": [
    {
     "name": "stdout",
     "output_type": "stream",
     "text": [
      "     microbenchmark  selectivity  format       time\n",
      "0    consume-bitmap            0       0   7.484760\n",
      "1    consume-bitmap            1       0  15.918600\n",
      "2    consume-bitmap            3       0  39.150700\n",
      "3    consume-bitmap            5       0  43.997800\n",
      "4    consume-bitmap           10       0  44.871700\n",
      "5    consume-bitmap           25       0  45.999700\n",
      "6    consume-bitmap           50       0  52.277900\n",
      "7    consume-bitmap          100       0  58.326000\n",
      "8   consume-indices            0       0   0.000643\n",
      "9   consume-indices            1       0   8.766700\n",
      "10  consume-indices            3       0  31.268600\n",
      "11  consume-indices            5       0  41.059000\n",
      "12  consume-indices           10       0  47.611600\n",
      "13  consume-indices           25       0  54.637200\n",
      "14  consume-indices           50       0  65.960600\n",
      "15  consume-indices          100       0  87.789100\n"
     ]
    }
   ],
   "source": [
    "analyze('results-hustle-2.csv')"
   ]
  }
 ],
 "metadata": {
  "kernelspec": {
   "display_name": "Python 3 (ipykernel)",
   "language": "python",
   "name": "python3"
  },
  "language_info": {
   "codemirror_mode": {
    "name": "ipython",
    "version": 3
   },
   "file_extension": ".py",
   "mimetype": "text/x-python",
   "name": "python",
   "nbconvert_exporter": "python",
   "pygments_lexer": "ipython3",
   "version": "3.9.16"
  }
 },
 "nbformat": 4,
 "nbformat_minor": 5
}
