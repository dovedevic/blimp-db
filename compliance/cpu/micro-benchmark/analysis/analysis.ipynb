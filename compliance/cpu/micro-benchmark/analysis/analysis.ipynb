{
 "cells": [
  {
   "cell_type": "code",
   "execution_count": 1,
   "id": "99b88d06-4a1a-4a26-a082-46e8727d1292",
   "metadata": {},
   "outputs": [],
   "source": [
    "import pandas as pd"
   ]
  },
  {
   "cell_type": "code",
   "execution_count": 17,
   "id": "7df587cb-374d-499c-99b3-278fe66f7337",
   "metadata": {},
   "outputs": [],
   "source": [
    "def analyze(name):\n",
    "    df = pd.read_csv(name)\n",
    "    df = df[df['trial'] != 0]\n",
    "    df['time'] = df['time'] * 1000\n",
    "    df = df.groupby(['microbenchmark', 'selectivity', 'format']).agg({'time': 'mean'}).reset_index()                                                                    \n",
    "    print(df)\n"
   ]
  },
  {
   "cell_type": "code",
   "execution_count": 18,
   "id": "457d2c50-323a-43b6-ab16-168fc6f2ef63",
   "metadata": {},
   "outputs": [
    {
     "name": "stdout",
     "output_type": "stream",
     "text": [
      "     microbenchmark  selectivity  format       time\n",
      "0         aggregate          100       3   4.266644\n",
      "1   group-aggregate          100       3   8.729258\n",
      "2              join            1       3  26.314320\n",
      "3              join            5       3  44.091580\n",
      "4              join           25       3  56.929060\n",
      "5         selection            1       0  11.226766\n",
      "6         selection            1       1   6.588958\n",
      "7         selection            1       2   9.314258\n",
      "8         selection            5       0  11.186170\n",
      "9         selection            5       1   9.427412\n",
      "10        selection            5       2  10.217760\n",
      "11        selection           25       0  11.214200\n",
      "12        selection           25       1  11.988200\n",
      "13        selection           25       2  14.389720\n",
      "14         semijoin            1       0  30.910660\n",
      "15         semijoin            1       1  28.165100\n",
      "16         semijoin            1       2  24.913960\n",
      "17         semijoin            5       0  45.547740\n",
      "18         semijoin            5       1  44.564900\n",
      "19         semijoin            5       2  39.473820\n",
      "20         semijoin           25       0  47.488660\n",
      "21         semijoin           25       1  48.836180\n",
      "22         semijoin           25       2  49.495980\n"
     ]
    }
   ],
   "source": [
    "analyze('results-hustle.csv')"
   ]
  }
 ],
 "metadata": {
  "kernelspec": {
   "display_name": "Python 3 (ipykernel)",
   "language": "python",
   "name": "python3"
  },
  "language_info": {
   "codemirror_mode": {
    "name": "ipython",
    "version": 3
   },
   "file_extension": ".py",
   "mimetype": "text/x-python",
   "name": "python",
   "nbconvert_exporter": "python",
   "pygments_lexer": "ipython3",
   "version": "3.9.16"
  }
 },
 "nbformat": 4,
 "nbformat_minor": 5
}
