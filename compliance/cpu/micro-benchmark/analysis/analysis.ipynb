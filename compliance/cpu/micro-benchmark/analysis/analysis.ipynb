{
 "cells": [
  {
   "cell_type": "code",
   "execution_count": 11,
   "id": "99b88d06-4a1a-4a26-a082-46e8727d1292",
   "metadata": {},
   "outputs": [
    {
     "name": "stdout",
     "output_type": "stream",
     "text": [
      "selectivity  method  type           0           1           5          10  \\\n",
      "0            bitmap     8   13.091800   13.017600   13.003300   13.055900   \n",
      "1            bitmap    16   23.569233   23.590700   23.599200   23.637800   \n",
      "2            bitmap    32   44.987233   44.997533   45.093900   45.013967   \n",
      "3            bitmap    64   87.999667   89.660267   87.988067   87.965533   \n",
      "4            values     8   45.106233   40.382133   67.117033   96.647733   \n",
      "5            values    16   39.429833   41.083733   57.816067   75.273333   \n",
      "6            values    32   65.686233   66.655933   77.604833   87.780967   \n",
      "7            values    64  155.253667  163.808000  162.356667  177.509000   \n",
      "\n",
      "selectivity          25          50         100  \n",
      "0             13.064833   13.068333   13.109767  \n",
      "1             23.594733   23.629400   23.689533  \n",
      "2             45.021233   45.039900   45.033467  \n",
      "3             87.999667   88.057867   88.025933  \n",
      "4            128.104667  162.727000   74.662400  \n",
      "5            111.487667  122.640667   63.061900  \n",
      "6            114.478000  136.229000  136.412667  \n",
      "7            197.180333  238.186333  302.137667  \n"
     ]
    }
   ],
   "source": [
    "import pandas as pd\n",
    "\n",
    "\n",
    "df = pd.read_csv('selection-hustle.csv')\n",
    "\n",
    "df['time'] *= 1000\n",
    "\n",
    "df = df[df['trial'] > 2]\n",
    "\n",
    "df['type'] = df['type'].replace({\n",
    "    'a': 8,\n",
    "    's': 16,\n",
    "    'i': 32,\n",
    "    'l': 64\n",
    "})\n",
    "\n",
    "df = df.groupby(['type', 'method', 'selectivity']).agg({'time': 'mean'}).reset_index()\n",
    "df = df.pivot_table(values='time', index=['method', 'type'], columns='selectivity').reset_index()\n",
    "\n",
    "print(df)"
   ]
  }
 ],
 "metadata": {
  "kernelspec": {
   "display_name": "Python 3 (ipykernel)",
   "language": "python",
   "name": "python3"
  },
  "language_info": {
   "codemirror_mode": {
    "name": "ipython",
    "version": 3
   },
   "file_extension": ".py",
   "mimetype": "text/x-python",
   "name": "python",
   "nbconvert_exporter": "python",
   "pygments_lexer": "ipython3",
   "version": "3.9.18"
  }
 },
 "nbformat": 4,
 "nbformat_minor": 5
}
