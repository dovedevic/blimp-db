{
 "cells": [
  {
   "cell_type": "code",
   "execution_count": 22,
   "id": "99b88d06-4a1a-4a26-a082-46e8727d1292",
   "metadata": {},
   "outputs": [
    {
     "name": "stdout",
     "output_type": "stream",
     "text": [
      "selectivity  method type          0          1          5         10  \\\n",
      "0            bitmap  i16   73.48434   74.05408   73.94964   73.48658   \n",
      "1            bitmap  i32   95.37018   95.38252   95.35230   95.32476   \n",
      "2            bitmap  i64  138.55460  138.73100  138.41200  138.83840   \n",
      "3            bitmap   i8   62.09582   63.73542   63.86176   62.47084   \n",
      "4            values  i16   37.27996   39.79346   45.38776   49.03340   \n",
      "5            values  i32   65.22874   79.99614   95.76502  101.55212   \n",
      "6            values  i64  158.61040  170.12220  205.52980  234.74620   \n",
      "7            values   i8   54.63598   54.70728   55.65168   56.48104   \n",
      "\n",
      "selectivity         25         50         100  \n",
      "0             73.83626   74.22086    74.06344  \n",
      "1             95.30878   95.61538    95.50602  \n",
      "2            138.54320  138.72000   138.42340  \n",
      "3             63.31698   63.34362    63.71214  \n",
      "4             64.90772  110.34860   319.59580  \n",
      "5            176.88320  266.49420   657.16820  \n",
      "6            352.43260  634.07020  1366.34800  \n",
      "7             59.52934   65.27486   111.28882  \n"
     ]
    }
   ],
   "source": [
    "import pandas as pd\n",
    "\n",
    "\n",
    "df = pd.read_csv('selection-hustle.csv')\n",
    "\n",
    "df['time'] *= 1000\n",
    "\n",
    "df = df[df['trial'] != 0]\n",
    "\n",
    "df['type'] = df['type'].replace({\n",
    "    'a': 'i8',\n",
    "    's': 'i16',\n",
    "    'i': 'i32',\n",
    "    'l': 'i64'\n",
    "})\n",
    "\n",
    "df = df.groupby(['type', 'method', 'selectivity']).agg({'time': 'mean'}).reset_index()\n",
    "df = df.pivot_table(values='time', index=['method', 'type'], columns='selectivity').reset_index()\n",
    "\n",
    "print(df)"
   ]
  }
 ],
 "metadata": {
  "kernelspec": {
   "display_name": "Python 3 (ipykernel)",
   "language": "python",
   "name": "python3"
  },
  "language_info": {
   "codemirror_mode": {
    "name": "ipython",
    "version": 3
   },
   "file_extension": ".py",
   "mimetype": "text/x-python",
   "name": "python",
   "nbconvert_exporter": "python",
   "pygments_lexer": "ipython3",
   "version": "3.9.18"
  }
 },
 "nbformat": 4,
 "nbformat_minor": 5
}
