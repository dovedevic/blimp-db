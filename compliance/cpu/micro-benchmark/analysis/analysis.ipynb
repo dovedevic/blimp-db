{
 "cells": [
  {
   "cell_type": "code",
   "execution_count": 6,
   "id": "99b88d06-4a1a-4a26-a082-46e8727d1292",
   "metadata": {},
   "outputs": [
    {
     "name": "stdout",
     "output_type": "stream",
     "text": [
      "selectivity  method type         0          1          5         10  \\\n",
      "0            bitmap  i16  2.276577   2.369937   2.385257   2.388887   \n",
      "1            bitmap  i32  4.434023   4.558530   5.591390   4.581420   \n",
      "2            bitmap  i64  8.693963   8.843670   8.882170   8.911457   \n",
      "3            bitmap   i8  1.260557   1.256140   1.292357   1.306937   \n",
      "4            values  i16  3.874123   3.474770   4.281383   4.467663   \n",
      "5            values  i32  4.862860   4.922093   5.997457   6.812957   \n",
      "6            values  i64  9.181747  11.220367  13.986133  15.935867   \n",
      "7            values   i8  6.539973   5.357007   6.531580   6.826987   \n",
      "\n",
      "selectivity         25         50        100  \n",
      "0             2.400423   2.414500   2.423923  \n",
      "1             4.584893   4.594787   4.593703  \n",
      "2             8.933370   8.910040   8.882217  \n",
      "3             1.286593   1.330110   1.323340  \n",
      "4             5.857580   8.374997  13.910667  \n",
      "5            10.382043  16.529167  27.332000  \n",
      "6            22.335500  34.710867  54.333267  \n",
      "7             7.065637   8.946427  11.246233  \n"
     ]
    }
   ],
   "source": [
    "import pandas as pd\n",
    "\n",
    "\n",
    "df = pd.read_csv('selection-hustle.csv')\n",
    "\n",
    "df['time'] *= 1000\n",
    "\n",
    "df = df[df['trial'] > 2]\n",
    "\n",
    "df['type'] = df['type'].replace({\n",
    "    'a': 'i8',\n",
    "    's': 'i16',\n",
    "    'i': 'i32',\n",
    "    'l': 'i64'\n",
    "})\n",
    "\n",
    "df = df.groupby(['type', 'method', 'selectivity']).agg({'time': 'mean'}).reset_index()\n",
    "df = df.pivot_table(values='time', index=['method', 'type'], columns='selectivity').reset_index()\n",
    "\n",
    "print(df)"
   ]
  }
 ],
 "metadata": {
  "kernelspec": {
   "display_name": "Python 3 (ipykernel)",
   "language": "python",
   "name": "python3"
  },
  "language_info": {
   "codemirror_mode": {
    "name": "ipython",
    "version": 3
   },
   "file_extension": ".py",
   "mimetype": "text/x-python",
   "name": "python",
   "nbconvert_exporter": "python",
   "pygments_lexer": "ipython3",
   "version": "3.9.18"
  }
 },
 "nbformat": 4,
 "nbformat_minor": 5
}
